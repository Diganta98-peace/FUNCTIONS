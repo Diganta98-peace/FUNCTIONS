{
 "cells": [
  {
   "cell_type": "code",
   "execution_count": 1,
   "id": "8ec5761c-c28f-44a5-aea1-3ce76b03bedc",
   "metadata": {},
   "outputs": [
    {
     "name": "stdout",
     "output_type": "stream",
     "text": [
      "Hello, Diganta\n",
      "Hello, Diganta\n"
     ]
    }
   ],
   "source": [
    "#Question1\n",
    "#  1. What is the difference between a function and a method in Python?\n",
    "\"\"\"\n",
    "A function is a block of reusable code that performs a specific task and is defined using the `def` keyword. \n",
    "Functions are not associated with any object and can be called independently using their name followed by parentheses, \n",
    "such as `my_function()`. They are typically defined at the module level and are used to organize code logically and \n",
    "avoid repetition.\n",
    "\n",
    "On the other hand, a method is also a function, but it is associated with an object and is defined within a class. \n",
    "Methods are called on objects (instances of classes) and automatically take the object itself as the first parameter, \n",
    "usually named `self`. For example, in a class `Person`, a method like `greet(self)` can be called as `person.greet()`, \n",
    "where `person` is an instance of the class.\n",
    "\n",
    "While both functions and methods are defined using `def`, the key difference lies in their context—functions are \n",
    "standalone, while methods are tied to class instances and operate on the data within those instances.\n",
    "\n",
    "\"\"\"\n",
    "# EXAMPLE\n",
    "#FUNCTION\n",
    "def greet(name):\n",
    "    return f\"Hello, {name}\"\n",
    "\n",
    "print(greet(\"Diganta\"))\n",
    "#METHOD\n",
    "class Greeter:\n",
    "    def greet(self, name):\n",
    "        return f\"Hello, {name}\"\n",
    "\n",
    "g = Greeter()\n",
    "print(g.greet(\"Diganta\"))\n",
    "\n"
   ]
  },
  {
   "cell_type": "code",
   "execution_count": 16,
   "id": "392f84a2-5535-4b04-a58c-2a52965f4eb5",
   "metadata": {},
   "outputs": [
    {
     "name": "stdout",
     "output_type": "stream",
     "text": [
      "Name: Diganta\n",
      "Age: 25\n",
      "City: Kolkata\n",
      "Name: Anita\n",
      "Age: 18\n",
      "City: Unknown\n",
      "Name: Ravi\n",
      "Age: 18\n",
      "City: Delhi\n"
     ]
    }
   ],
   "source": [
    "#Question2\n",
    "# 2. Explain the concept of function arguments and parameters in Python.\n",
    "\"\"\"\n",
    "The concept of function arguments and parameters is essential for how functions receive and process data. \n",
    "Parameters are the variable names used when defining a function; they act as placeholders for the values that the \n",
    "function will use when it is called. For example, in the function definition def add(a, b):, the variables a and b are parameters.\n",
    "These parameters do not hold any actual value until the function is called.\n",
    "Arguments, on the other hand, are the real values that are passed into the function during a function call. \n",
    "For instance, in the statement add(5, 3), the numbers 5 and 3 are the arguments that get assigned to the parameters a and b respectively. \n",
    "Python functions can accept different types of arguments to provide flexibility in how they are used.\n",
    "There are several types of arguments in Python. Positional arguments are the most common and are matched to parameters \n",
    "based on their position in the function call. Keyword arguments are specified by explicitly stating the name of the parameter, \n",
    "such as add(a=5, b=3), which allows arguments to be passed in any order. Default arguments are parameters that have a predefined \n",
    "value in the function definition, allowing the function to be called with fewer arguments. For example, def greet(name=\"Guest\"): lets the \n",
    "function work even if no value is passed for name. Python also supports variable-length arguments using *args for multiple positional arguments \n",
    "and **kwargs for multiple keyword arguments. These features make Python functions highly flexible and adaptable to various programming needs.\n",
    "\n",
    "\"\"\"\n",
    "#EXMPLE\n",
    "def introduce(name, age=18, city=\"Unknown\"):\n",
    "    print(\"Name:\", name)\n",
    "    print(\"Age:\", age)\n",
    "    print(\"City:\", city)\n",
    "\n",
    "introduce(\"Diganta\", 25, \"Kolkata\")\n",
    "introduce(\"Anita\")  #\n",
    "introduce(\"Ravi\", city=\"Delhi\")  \n",
    "\n",
    "\n"
   ]
  },
  {
   "cell_type": "code",
   "execution_count": 10,
   "id": "499be55e-11ff-425c-a460-6ce8559af5e8",
   "metadata": {},
   "outputs": [],
   "source": [
    "#Question3\n",
    "# 3. What are the different ways to define and call a function in Python?\n",
    "\"\"\"\n",
    "Functions can be defined and called in several ways depending on the use case. \n",
    "The most common way to define a function is by using the def keyword followed by the function name and \n",
    "a set of parentheses containing optional parameters. Functions can also take parametges like postional arguements and key arguements.\n",
    "Another way to define a function is using a lambda function, which is a small anonymous function created using the lambda keyword.\n",
    "Functions can also be defined inside other functions (nested functions), which are useful for creating helper functions within a limited scope.\n",
    "\"\"\"\n",
    "#Example\n",
    "#  Defining a basic function using def\n",
    "def greet_user():\n",
    "    print(\"Welcome to your Data Science journey!\")\n",
    "    \n",
    "    \n",
    "\n"
   ]
  },
  {
   "cell_type": "code",
   "execution_count": 11,
   "id": "ee38bbca-5b85-4904-936d-d9931c4e943f",
   "metadata": {},
   "outputs": [
    {
     "name": "stdout",
     "output_type": "stream",
     "text": [
      "7\n"
     ]
    }
   ],
   "source": [
    "#Question 4\n",
    "# 4. What is the purpose of the `return` statement in a Python function?\n",
    "\"\"\"\n",
    "The return statement in a Python function is used to send a result or value back to the place where the function was called. \n",
    "When a function executes a return statement, it immediately ends the function’s execution and outputs the specified value.\n",
    "This allows the function to produce a result that can be stored in a variable, used in expressions, or passed to other functions.\n",
    "\"\"\"\n",
    "def add(a, b):\n",
    "    return a + b\n",
    "\n",
    "result = add(3, 4)\n",
    "print(result)\n",
    "\n"
   ]
  },
  {
   "cell_type": "code",
   "execution_count": 12,
   "id": "fab073f7-7bb9-45a7-ada0-edbd5299cffa",
   "metadata": {},
   "outputs": [
    {
     "name": "stdout",
     "output_type": "stream",
     "text": [
      "1\n",
      "2\n",
      "3\n"
     ]
    }
   ],
   "source": [
    "#Question5\n",
    "#5. What are iterators in Python and how do they differ from iterables?\n",
    "\"\"\"\n",
    "In Python, an iterable is any object capable of returning its elements one by one, such as lists, strings, or tuples, allowing them to\n",
    "be used in a for loop. An iterator, however, is the object that performs the actual iteration by keeping track of the current position \n",
    "and returning the next element each time the next() function is called. The main difference is that iterables can be converted into iterators,\n",
    "while iterators maintain their state during iteration and can only move forward until all elements have been accessed.\n",
    "\"\"\"\n",
    "#Example\n",
    "my_list = [1, 2, 3]\n",
    "\n",
    "# We create an iterator from the iterable\n",
    "my_iterator = iter(my_list)\n",
    "\n",
    "print(next(my_iterator))  \n",
    "print(next(my_iterator))  \n",
    "print(next(my_iterator))  \n"
   ]
  },
  {
   "cell_type": "code",
   "execution_count": 13,
   "id": "1554a488-dbfe-40c0-910b-3cc7b3e7fec5",
   "metadata": {},
   "outputs": [
    {
     "name": "stdout",
     "output_type": "stream",
     "text": [
      "1\n",
      "2\n",
      "3\n",
      "4\n",
      "5\n"
     ]
    }
   ],
   "source": [
    "#Queston6\n",
    "# 6. Explain the concept of generators in Python and how they are defined.\n",
    "\"\"\"\n",
    "Generators in Python are special types of functions that help us create a sequence of values one at a time, \n",
    "instead of making a whole list in memory. This is useful when working with large data because it saves memorry. \n",
    "Generators use the 'yield' keyword to give back a value and pause the function, so it can continue from where it left off \n",
    "when called again. They are simple to write and allow you to handle data step by step without storing everything at once.\n",
    "\"\"\"\n",
    "\n",
    "def count_up_to(max):\n",
    "    count = 1\n",
    "    while count <= max:\n",
    "        yield count\n",
    "        count += 1\n",
    "\n",
    "for number in count_up_to(5):\n",
    "    print(number)\n"
   ]
  },
  {
   "cell_type": "code",
   "execution_count": 14,
   "id": "802d3b88-94d9-441f-92ff-94783021678c",
   "metadata": {},
   "outputs": [
    {
     "name": "stdout",
     "output_type": "stream",
     "text": [
      "apple\n",
      "banana\n",
      "cherry\n"
     ]
    }
   ],
   "source": [
    "#Question 7 \n",
    "# 7. What are the advantages of using generators over regular functions?\n",
    "\"\"\"\n",
    "Generators have several advantages :\n",
    "1. We use less memorry because generators produce items one at a time instead of storing all results at once, \n",
    "   making them great for big datasets.\n",
    "2. We can start getting results faster since generators don’t need to compute everything upfront.\n",
    "3. We can create infinite sequences safely with generators without running out of resources.\n",
    "\"\"\"\n",
    "def simple_gen():\n",
    "    yield 'apple'\n",
    "    yield 'banana'\n",
    "    yield 'cherry'\n",
    "\n",
    "for fruit in simple_gen():\n",
    "    print(fruit)\n",
    "\n"
   ]
  },
  {
   "cell_type": "code",
   "execution_count": 15,
   "id": "87abbc81-d55d-4526-af8f-161ba7c90a09",
   "metadata": {},
   "outputs": [
    {
     "name": "stdout",
     "output_type": "stream",
     "text": [
      "[1, 4, 9, 16, 25]\n"
     ]
    }
   ],
   "source": [
    "#Question8\n",
    "#8. What is a lambda function in Python and when is it typically used?\n",
    "\"\"\"\n",
    "A lambda function in Python is a small, unnamed function created with the 'lambda' keyword. It can only have one simple expression \n",
    "and is used when we need a quick function for a short time. We typically use lambda functions with other functions like \n",
    "map() or filter() to keep our code short and easy to read, especially when the operation is simple and doesn't need \n",
    "a full function definition.\n",
    "\"\"\"\n",
    "numbers = [1, 2, 3, 4, 5]\n",
    "squared = list(map(lambda x: x ** 2, numbers))\n",
    "print(squared)\n",
    "\n"
   ]
  },
  {
   "cell_type": "code",
   "execution_count": 17,
   "id": "709b3409-9334-4bef-9570-8ebfa09e87aa",
   "metadata": {},
   "outputs": [
    {
     "name": "stdout",
     "output_type": "stream",
     "text": [
      "[2, 4, 6, 8]\n"
     ]
    }
   ],
   "source": [
    "#Question9\n",
    "# 9. Explain the purpose and usage of the `map()` function in Python.\n",
    "\"\"\"The map() function in Python is used to apply a specific function to every item in a list or other iterable. \n",
    "It helps us transform all items quickly without writing a loop. For example, if we want to double every number \n",
    "in a list, we can use map() with a function that doubles a number, and it will return a new list with the results.\n",
    "\"\"\"\n",
    "numbers = [1, 2, 3, 4]\n",
    "doubled = list(map(lambda x: x * 2, numbers))\n",
    "print(doubled)  \n",
    "\n"
   ]
  },
  {
   "cell_type": "code",
   "execution_count": 18,
   "id": "ffe8ad6b-780f-4e03-a010-233ddd8d72b5",
   "metadata": {},
   "outputs": [
    {
     "name": "stdout",
     "output_type": "stream",
     "text": [
      "[2, 3, 4]\n",
      "[2, 3]\n",
      "6\n"
     ]
    }
   ],
   "source": [
    "#Question10\n",
    "# 10. What is the difference between `map()`, `reduce()`, and `filter()` functions in Python?\n",
    "\"\"\"\n",
    "Differences between map(), reduce(), and filter():\n",
    "1. map() applies a function to every item in a list and returns a new list with the results.\n",
    "2. filter() checks each item with a condition (function that returns True or False) and returns only the items that pass.\n",
    "3. reduce() combines all items in a list into a single value by applying a function repeatedly (like adding all numbers).\n",
    "Each helps process data in different ways easily without writing loops.\n",
    "\"\"\"\n",
    "#Example\n",
    "from functools import reduce\n",
    "numbers = [1, 2, 3]\n",
    "mapped = list(map(lambda x: x + 1, numbers))\n",
    "print(mapped)  \n",
    "\n",
    "filtered = list(filter(lambda x: x > 1, numbers))\n",
    "print(filtered)  # Output: [2, 3]\n",
    "\n",
    "summed = reduce(lambda x, y: x * y, numbers)\n",
    "print(summed)  # Output: 6\n",
    "\n"
   ]
  },
  {
   "cell_type": "code",
   "execution_count": 20,
   "id": "7e660686-e5bc-456c-9343-ba1d0841bcb6",
   "metadata": {},
   "outputs": [
    {
     "name": "stdout",
     "output_type": "stream",
     "text": [
      "Sum of even numbers: 30\n"
     ]
    }
   ],
   "source": [
    "#Practical Questions\n",
    "# 1. Write a Python function that takes a list of numbers as input and returns the sum of all even numbers.\n",
    "def sumof_even_numbers(numbers):\n",
    "    even_sum = 0\n",
    "    for num in numbers:\n",
    "        if num % 2 == 0:\n",
    "            even_sum += num\n",
    "    return even_sum\n",
    "\n",
    "# List\n",
    "numbers = [1, 2, 3, 4, 5, 6, 7, 8, 9, 10]\n",
    "result = sumof_even_numbers(numbers)\n",
    "print(\"Sum of even numbers:\", result)\n",
    "\n"
   ]
  },
  {
   "cell_type": "code",
   "execution_count": 21,
   "id": "1ca6a614-f0fa-4c08-b278-f716f0f65972",
   "metadata": {},
   "outputs": [
    {
     "name": "stdout",
     "output_type": "stream",
     "text": [
      "atnagiD\n"
     ]
    }
   ],
   "source": [
    "#  2. Create a Python function that accepts a string and returns the reverse of that string.\n",
    "def reverse_string(text):\n",
    "    return text[::-1]\n",
    "\n",
    "result = reverse_string(\"Diganta\")\n",
    "print(result)\n"
   ]
  },
  {
   "cell_type": "code",
   "execution_count": 23,
   "id": "7f5c806e-c66f-45eb-abeb-bf5811edfed1",
   "metadata": {},
   "outputs": [
    {
     "name": "stdout",
     "output_type": "stream",
     "text": [
      "[1, 4, 9, 16, 25]\n"
     ]
    }
   ],
   "source": [
    "#  3. Implement a Python function that takes a list of integers and returns a new list containing the squares of \n",
    "#each number.\n",
    "numbers = [1, 2, 3, 4, 5]\n",
    "squared = list(map(lambda x: x ** 2, numbers))\n",
    "print(squared)"
   ]
  },
  {
   "cell_type": "code",
   "execution_count": 24,
   "id": "b625f187-e3eb-4a56-80df-f42704b116f0",
   "metadata": {},
   "outputs": [],
   "source": [
    "# 4. Write a Python function that checks if a given number is prime or not from 1 to 200\n",
    "# COuldn't Solve"
   ]
  },
  {
   "cell_type": "code",
   "execution_count": 25,
   "id": "9a35caa6-a481-4646-83ff-763bc27ccc83",
   "metadata": {},
   "outputs": [],
   "source": [
    "# 5. Create an iterator class in Python that generates the Fibonacci sequence up to a specified number of \n",
    "#terms.\n",
    "#Couldn't solve"
   ]
  },
  {
   "cell_type": "code",
   "execution_count": 26,
   "id": "3a4ae320-30d3-459e-981f-214d9a9fdd7a",
   "metadata": {},
   "outputs": [
    {
     "name": "stdout",
     "output_type": "stream",
     "text": [
      "1\n",
      "2\n",
      "4\n",
      "8\n",
      "16\n",
      "32\n"
     ]
    }
   ],
   "source": [
    "# 6. Write a generator function in Python that yields the powers of 2 up to a given exponent.\n",
    "def powers_of_two(limit):\n",
    "    for i in range(limit + 1):\n",
    "        yield 2 ** i\n",
    "\n",
    "for num in powers_of_two(5):\n",
    "    print(num)\n"
   ]
  },
  {
   "cell_type": "code",
   "execution_count": 27,
   "id": "6ee41373-78c0-4c5a-bbdf-49589834615a",
   "metadata": {},
   "outputs": [
    {
     "ename": "FileNotFoundError",
     "evalue": "[Errno 2] No such file or directory: 'sample.txt'",
     "output_type": "error",
     "traceback": [
      "\u001b[31m---------------------------------------------------------------------------\u001b[39m",
      "\u001b[31mFileNotFoundError\u001b[39m                         Traceback (most recent call last)",
      "\u001b[36mCell\u001b[39m\u001b[36m \u001b[39m\u001b[32mIn[27]\u001b[39m\u001b[32m, line 8\u001b[39m\n\u001b[32m      4\u001b[39m         \u001b[38;5;28;01mfor\u001b[39;00m line \u001b[38;5;129;01min\u001b[39;00m file:\n\u001b[32m      5\u001b[39m             \u001b[38;5;28;01myield\u001b[39;00m line.strip()\n\u001b[32m----> \u001b[39m\u001b[32m8\u001b[39m \u001b[38;5;28;43;01mfor\u001b[39;49;00m\u001b[43m \u001b[49m\u001b[43mline\u001b[49m\u001b[43m \u001b[49m\u001b[38;5;129;43;01min\u001b[39;49;00m\u001b[43m \u001b[49m\u001b[43mread_lines\u001b[49m\u001b[43m(\u001b[49m\u001b[33;43m'\u001b[39;49m\u001b[33;43msample.txt\u001b[39;49m\u001b[33;43m'\u001b[39;49m\u001b[43m)\u001b[49m\u001b[43m:\u001b[49m\n\u001b[32m      9\u001b[39m \u001b[43m    \u001b[49m\u001b[38;5;28;43mprint\u001b[39;49m\u001b[43m(\u001b[49m\u001b[43mline\u001b[49m\u001b[43m)\u001b[49m\n",
      "\u001b[36mCell\u001b[39m\u001b[36m \u001b[39m\u001b[32mIn[27]\u001b[39m\u001b[32m, line 3\u001b[39m, in \u001b[36mread_lines\u001b[39m\u001b[34m(filename)\u001b[39m\n\u001b[32m      2\u001b[39m \u001b[38;5;28;01mdef\u001b[39;00m\u001b[38;5;250m \u001b[39m\u001b[34mread_lines\u001b[39m(filename):\n\u001b[32m----> \u001b[39m\u001b[32m3\u001b[39m     \u001b[38;5;28;01mwith\u001b[39;00m \u001b[38;5;28;43mopen\u001b[39;49m\u001b[43m(\u001b[49m\u001b[43mfilename\u001b[49m\u001b[43m,\u001b[49m\u001b[43m \u001b[49m\u001b[33;43m'\u001b[39;49m\u001b[33;43mr\u001b[39;49m\u001b[33;43m'\u001b[39;49m\u001b[43m)\u001b[49m \u001b[38;5;28;01mas\u001b[39;00m file:\n\u001b[32m      4\u001b[39m         \u001b[38;5;28;01mfor\u001b[39;00m line \u001b[38;5;129;01min\u001b[39;00m file:\n\u001b[32m      5\u001b[39m             \u001b[38;5;28;01myield\u001b[39;00m line.strip()\n",
      "\u001b[36mFile \u001b[39m\u001b[32m~\\AppData\\Local\\Programs\\Python\\Python313\\Lib\\site-packages\\IPython\\core\\interactiveshell.py:326\u001b[39m, in \u001b[36m_modified_open\u001b[39m\u001b[34m(file, *args, **kwargs)\u001b[39m\n\u001b[32m    319\u001b[39m \u001b[38;5;28;01mif\u001b[39;00m file \u001b[38;5;129;01min\u001b[39;00m {\u001b[32m0\u001b[39m, \u001b[32m1\u001b[39m, \u001b[32m2\u001b[39m}:\n\u001b[32m    320\u001b[39m     \u001b[38;5;28;01mraise\u001b[39;00m \u001b[38;5;167;01mValueError\u001b[39;00m(\n\u001b[32m    321\u001b[39m         \u001b[33mf\u001b[39m\u001b[33m\"\u001b[39m\u001b[33mIPython won\u001b[39m\u001b[33m'\u001b[39m\u001b[33mt let you open fd=\u001b[39m\u001b[38;5;132;01m{\u001b[39;00mfile\u001b[38;5;132;01m}\u001b[39;00m\u001b[33m by default \u001b[39m\u001b[33m\"\u001b[39m\n\u001b[32m    322\u001b[39m         \u001b[33m\"\u001b[39m\u001b[33mas it is likely to crash IPython. If you know what you are doing, \u001b[39m\u001b[33m\"\u001b[39m\n\u001b[32m    323\u001b[39m         \u001b[33m\"\u001b[39m\u001b[33myou can use builtins\u001b[39m\u001b[33m'\u001b[39m\u001b[33m open.\u001b[39m\u001b[33m\"\u001b[39m\n\u001b[32m    324\u001b[39m     )\n\u001b[32m--> \u001b[39m\u001b[32m326\u001b[39m \u001b[38;5;28;01mreturn\u001b[39;00m \u001b[43mio_open\u001b[49m\u001b[43m(\u001b[49m\u001b[43mfile\u001b[49m\u001b[43m,\u001b[49m\u001b[43m \u001b[49m\u001b[43m*\u001b[49m\u001b[43margs\u001b[49m\u001b[43m,\u001b[49m\u001b[43m \u001b[49m\u001b[43m*\u001b[49m\u001b[43m*\u001b[49m\u001b[43mkwargs\u001b[49m\u001b[43m)\u001b[49m\n",
      "\u001b[31mFileNotFoundError\u001b[39m: [Errno 2] No such file or directory: 'sample.txt'"
     ]
    }
   ],
   "source": [
    "# 7. Implement a generator function that reads a file line by line and yields each line as a string.\n",
    "def read_lines(filename):\n",
    "    with open(filename, 'r') as file:\n",
    "        for line in file:\n",
    "            yield line.strip()\n",
    "\n",
    "\n",
    "for line in read_lines('sample.txt'):\n",
    "    print(line)\n",
    "\n"
   ]
  },
  {
   "cell_type": "code",
   "execution_count": 28,
   "id": "244dd129-808a-44d9-b9db-4d7acb6aeedd",
   "metadata": {},
   "outputs": [
    {
     "name": "stdout",
     "output_type": "stream",
     "text": [
      "[(4, 1), (3, 2), (1, 5), (2, 8)]\n"
     ]
    }
   ],
   "source": [
    "#8. Use a lambda function in Python to sort a list of tuples based on the second element of each tuple.\n",
    "data = [(1, 5), (3, 2), (2, 8), (4, 1)]\n",
    "sorted_data = sorted(data, key=lambda x: x[1])\n",
    "print(sorted_data)\n"
   ]
  },
  {
   "cell_type": "code",
   "execution_count": 29,
   "id": "8b3ecd57-0c6d-4e67-9acb-64ba40e1aea0",
   "metadata": {},
   "outputs": [
    {
     "name": "stdout",
     "output_type": "stream",
     "text": [
      "[32.0, 50.0, 68.0, 86.0, 104.0]\n"
     ]
    }
   ],
   "source": [
    "# 9. Write a Python program that uses `map()` to convert a list of temperatures from Celsius to Fahrenheit.\n",
    "celsius = [0, 10, 20, 30, 40]\n",
    "fahrenheit = list(map(lambda c: (c * 9/5) + 32, celsius))\n",
    "print(fahrenheit)\n"
   ]
  },
  {
   "cell_type": "code",
   "execution_count": 30,
   "id": "2b2a3d0a-a3d2-480a-afc9-bf302abbce80",
   "metadata": {},
   "outputs": [
    {
     "name": "stdout",
     "output_type": "stream",
     "text": [
      "Dt Scnc\n"
     ]
    }
   ],
   "source": [
    "# 10. Create a Python program that uses `filter()` to remove all the vowels from a given string.\n",
    "def remove_vowels(text):\n",
    "    vowels = \"aeiouAEIOU\"\n",
    "    filtered = filter(lambda char: char not in vowels, text)\n",
    "    return \"\".join(filtered)\n",
    "\n",
    "result = remove_vowels(\"Data Science\")\n",
    "print(result)\n"
   ]
  },
  {
   "cell_type": "code",
   "execution_count": 31,
   "id": "69e216eb-dad0-476d-9ad4-af4170a408c1",
   "metadata": {},
   "outputs": [
    {
     "name": "stdout",
     "output_type": "stream",
     "text": [
      "[(34587, 173.8), (98762, 294.0), (77226, 108.85000000000001), (88112, 84.97)]\n"
     ]
    }
   ],
   "source": [
    "\"\"\"\n",
    " Write a Python program, which returns a list with 2-tuples. Each tuple consists of the order number and the \n",
    "product of the price per item and the quantity. The product should be increased by 10,- € if the value of the \n",
    "order is smaller than 100,00 €.\n",
    " Write a Python program using lambda and map.\n",
    " \"\"\"\n",
    "# List of orders: (order_number, quantity, price_per_item)\n",
    "orders = [\n",
    "    (34587, 4, 40.95),\n",
    "    (98762, 5, 56.80),\n",
    "    (77226, 3, 32.95),\n",
    "    (88112, 3, 24.99)\n",
    "]\n",
    "\n",
    "result = list(map(\n",
    "    lambda order: (order[0], (order[1] * order[2]) + (10 if order[0] < 100000 else 0)),\n",
    "    orders\n",
    "            ))\n",
    "print(result)"
   ]
  },
  {
   "cell_type": "code",
   "execution_count": null,
   "id": "0a13d412-faa9-4637-be02-32c1497306ae",
   "metadata": {},
   "outputs": [],
   "source": []
  }
 ],
 "metadata": {
  "kernelspec": {
   "display_name": "Python 3 (ipykernel)",
   "language": "python",
   "name": "python3"
  },
  "language_info": {
   "codemirror_mode": {
    "name": "ipython",
    "version": 3
   },
   "file_extension": ".py",
   "mimetype": "text/x-python",
   "name": "python",
   "nbconvert_exporter": "python",
   "pygments_lexer": "ipython3",
   "version": "3.13.2"
  }
 },
 "nbformat": 4,
 "nbformat_minor": 5
}
